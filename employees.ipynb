{
 "cells": [
  {
   "cell_type": "code",
   "execution_count": 1,
   "id": "8cffd498",
   "metadata": {},
   "outputs": [],
   "source": [
    "employees = {\n",
    "    \"first\": [\"Jizzu\", \"Dejju\", \"Raju\"],\n",
    "    \"last\": [\"S\", \"krissue\", \"K\"],\n",
    "    \"email\": [\"jizzu@gmail.com\", \"krissue@gmail.com\", \"rajuk@gmail.com\"],\n",
    "    \"address\": [\"Mumbai\", \"NYC\", \"Kathmandu\"],\n",
    "    \"salary\": [200000, 290000, 98000]\n",
    "}"
   ]
  },
  {
   "cell_type": "code",
   "execution_count": 2,
   "id": "ec62f4bb",
   "metadata": {},
   "outputs": [
    {
     "data": {
      "text/plain": [
       "{'first': ['Jizzu', 'Dejju', 'Raju'],\n",
       " 'last': ['S', 'krissue', 'K'],\n",
       " 'email': ['jizzu@gmail.com', 'krissue@gmail.com', 'rajuk@gmail.com'],\n",
       " 'address': ['Mumbai', 'NYC', 'Kathmandu'],\n",
       " 'salary': [200000, 290000, 98000]}"
      ]
     },
     "execution_count": 2,
     "metadata": {},
     "output_type": "execute_result"
    }
   ],
   "source": [
    "employees"
   ]
  },
  {
   "cell_type": "code",
   "execution_count": 3,
   "id": "0bbfbf02",
   "metadata": {},
   "outputs": [
    {
     "data": {
      "text/plain": [
       "['Jizzu', 'Dejju', 'Raju']"
      ]
     },
     "execution_count": 3,
     "metadata": {},
     "output_type": "execute_result"
    }
   ],
   "source": [
    "employees[\"first\"]"
   ]
  },
  {
   "cell_type": "code",
   "execution_count": 5,
   "id": "c5e6dbbf",
   "metadata": {
    "scrolled": true
   },
   "outputs": [],
   "source": [
    "import pandas as pd"
   ]
  },
  {
   "cell_type": "code",
   "execution_count": 6,
   "id": "c5f6ca3b",
   "metadata": {},
   "outputs": [],
   "source": [
    "df = pd.DataFrame(employees)"
   ]
  },
  {
   "cell_type": "code",
   "execution_count": 7,
   "id": "e59e6a4d",
   "metadata": {},
   "outputs": [
    {
     "data": {
      "text/html": [
       "<div>\n",
       "<style scoped>\n",
       "    .dataframe tbody tr th:only-of-type {\n",
       "        vertical-align: middle;\n",
       "    }\n",
       "\n",
       "    .dataframe tbody tr th {\n",
       "        vertical-align: top;\n",
       "    }\n",
       "\n",
       "    .dataframe thead th {\n",
       "        text-align: right;\n",
       "    }\n",
       "</style>\n",
       "<table border=\"1\" class=\"dataframe\">\n",
       "  <thead>\n",
       "    <tr style=\"text-align: right;\">\n",
       "      <th></th>\n",
       "      <th>first</th>\n",
       "      <th>last</th>\n",
       "      <th>email</th>\n",
       "      <th>address</th>\n",
       "      <th>salary</th>\n",
       "    </tr>\n",
       "  </thead>\n",
       "  <tbody>\n",
       "    <tr>\n",
       "      <th>0</th>\n",
       "      <td>Jizzu</td>\n",
       "      <td>S</td>\n",
       "      <td>jizzu@gmail.com</td>\n",
       "      <td>Mumbai</td>\n",
       "      <td>200000</td>\n",
       "    </tr>\n",
       "    <tr>\n",
       "      <th>1</th>\n",
       "      <td>Dejju</td>\n",
       "      <td>krissue</td>\n",
       "      <td>krissue@gmail.com</td>\n",
       "      <td>NYC</td>\n",
       "      <td>290000</td>\n",
       "    </tr>\n",
       "    <tr>\n",
       "      <th>2</th>\n",
       "      <td>Raju</td>\n",
       "      <td>K</td>\n",
       "      <td>rajuk@gmail.com</td>\n",
       "      <td>Kathmandu</td>\n",
       "      <td>98000</td>\n",
       "    </tr>\n",
       "  </tbody>\n",
       "</table>\n",
       "</div>"
      ],
      "text/plain": [
       "   first     last              email    address  salary\n",
       "0  Jizzu        S    jizzu@gmail.com     Mumbai  200000\n",
       "1  Dejju  krissue  krissue@gmail.com        NYC  290000\n",
       "2   Raju        K    rajuk@gmail.com  Kathmandu   98000"
      ]
     },
     "execution_count": 7,
     "metadata": {},
     "output_type": "execute_result"
    }
   ],
   "source": [
    "df"
   ]
  },
  {
   "cell_type": "code",
   "execution_count": 38,
   "id": "941d8bd5",
   "metadata": {},
   "outputs": [
    {
     "data": {
      "text/plain": [
       "0    Jizzu\n",
       "1    Dejju\n",
       "2     Raju\n",
       "Name: first, dtype: object"
      ]
     },
     "execution_count": 38,
     "metadata": {},
     "output_type": "execute_result"
    }
   ],
   "source": [
    "df[\"first\"] "
   ]
  },
  {
   "cell_type": "code",
   "execution_count": 10,
   "id": "a7e27284",
   "metadata": {},
   "outputs": [
    {
     "data": {
      "text/html": [
       "<div>\n",
       "<style scoped>\n",
       "    .dataframe tbody tr th:only-of-type {\n",
       "        vertical-align: middle;\n",
       "    }\n",
       "\n",
       "    .dataframe tbody tr th {\n",
       "        vertical-align: top;\n",
       "    }\n",
       "\n",
       "    .dataframe thead th {\n",
       "        text-align: right;\n",
       "    }\n",
       "</style>\n",
       "<table border=\"1\" class=\"dataframe\">\n",
       "  <thead>\n",
       "    <tr style=\"text-align: right;\">\n",
       "      <th></th>\n",
       "      <th>first</th>\n",
       "      <th>last</th>\n",
       "      <th>email</th>\n",
       "    </tr>\n",
       "  </thead>\n",
       "  <tbody>\n",
       "    <tr>\n",
       "      <th>0</th>\n",
       "      <td>Jizzu</td>\n",
       "      <td>S</td>\n",
       "      <td>jizzu@gmail.com</td>\n",
       "    </tr>\n",
       "    <tr>\n",
       "      <th>1</th>\n",
       "      <td>Dejju</td>\n",
       "      <td>krissue</td>\n",
       "      <td>krissue@gmail.com</td>\n",
       "    </tr>\n",
       "    <tr>\n",
       "      <th>2</th>\n",
       "      <td>Raju</td>\n",
       "      <td>K</td>\n",
       "      <td>rajuk@gmail.com</td>\n",
       "    </tr>\n",
       "  </tbody>\n",
       "</table>\n",
       "</div>"
      ],
      "text/plain": [
       "   first     last              email\n",
       "0  Jizzu        S    jizzu@gmail.com\n",
       "1  Dejju  krissue  krissue@gmail.com\n",
       "2   Raju        K    rajuk@gmail.com"
      ]
     },
     "execution_count": 10,
     "metadata": {},
     "output_type": "execute_result"
    }
   ],
   "source": [
    "df[[\"first\", \"last\", \"email\"]]"
   ]
  },
  {
   "cell_type": "code",
   "execution_count": 32,
   "id": "c9a67c9c",
   "metadata": {
    "scrolled": false
   },
   "outputs": [
    {
     "data": {
      "text/html": [
       "<div>\n",
       "<style scoped>\n",
       "    .dataframe tbody tr th:only-of-type {\n",
       "        vertical-align: middle;\n",
       "    }\n",
       "\n",
       "    .dataframe tbody tr th {\n",
       "        vertical-align: top;\n",
       "    }\n",
       "\n",
       "    .dataframe thead th {\n",
       "        text-align: right;\n",
       "    }\n",
       "</style>\n",
       "<table border=\"1\" class=\"dataframe\">\n",
       "  <thead>\n",
       "    <tr style=\"text-align: right;\">\n",
       "      <th></th>\n",
       "      <th>last</th>\n",
       "      <th>email</th>\n",
       "      <th>address</th>\n",
       "    </tr>\n",
       "  </thead>\n",
       "  <tbody>\n",
       "    <tr>\n",
       "      <th>0</th>\n",
       "      <td>S</td>\n",
       "      <td>jizzu@gmail.com</td>\n",
       "      <td>Mumbai</td>\n",
       "    </tr>\n",
       "    <tr>\n",
       "      <th>1</th>\n",
       "      <td>krissue</td>\n",
       "      <td>krissue@gmail.com</td>\n",
       "      <td>NYC</td>\n",
       "    </tr>\n",
       "  </tbody>\n",
       "</table>\n",
       "</div>"
      ],
      "text/plain": [
       "      last              email address\n",
       "0        S    jizzu@gmail.com  Mumbai\n",
       "1  krissue  krissue@gmail.com     NYC"
      ]
     },
     "execution_count": 32,
     "metadata": {},
     "output_type": "execute_result"
    }
   ],
   "source": [
    "df.iloc[[0,1], [1,2,3]] "
   ]
  },
  {
   "cell_type": "code",
   "execution_count": 39,
   "id": "42c91ac1",
   "metadata": {},
   "outputs": [
    {
     "data": {
      "text/plain": [
       "Index(['first', 'last', 'email', 'address', 'salary'], dtype='object')"
      ]
     },
     "execution_count": 39,
     "metadata": {},
     "output_type": "execute_result"
    }
   ],
   "source": [
    "df.columns"
   ]
  },
  {
   "cell_type": "code",
   "execution_count": 41,
   "id": "79466227",
   "metadata": {},
   "outputs": [
    {
     "data": {
      "text/plain": [
       "<bound method DataFrame.count of    first     last              email    address  salary\n",
       "0  Jizzu        S    jizzu@gmail.com     Mumbai  200000\n",
       "1  Dejju  krissue  krissue@gmail.com        NYC  290000\n",
       "2   Raju        K    rajuk@gmail.com  Kathmandu   98000>"
      ]
     },
     "execution_count": 41,
     "metadata": {},
     "output_type": "execute_result"
    }
   ],
   "source": [
    "df.count"
   ]
  },
  {
   "cell_type": "code",
   "execution_count": 42,
   "id": "c06aa4b0",
   "metadata": {},
   "outputs": [
    {
     "data": {
      "text/plain": [
       "0    Jizzu\n",
       "1    Dejju\n",
       "2     Raju\n",
       "Name: first, dtype: object"
      ]
     },
     "execution_count": 42,
     "metadata": {},
     "output_type": "execute_result"
    }
   ],
   "source": [
    "df['first']"
   ]
  },
  {
   "cell_type": "code",
   "execution_count": 46,
   "id": "fe592f9b",
   "metadata": {},
   "outputs": [
    {
     "data": {
      "text/plain": [
       "email     jizzu@gmail.com\n",
       "salary             200000\n",
       "Name: 0, dtype: object"
      ]
     },
     "execution_count": 46,
     "metadata": {},
     "output_type": "execute_result"
    }
   ],
   "source": [
    "df.loc[0, ['email', 'salary']]"
   ]
  },
  {
   "cell_type": "code",
   "execution_count": null,
   "id": "df20c7a1",
   "metadata": {},
   "outputs": [],
   "source": []
  }
 ],
 "metadata": {
  "kernelspec": {
   "display_name": "Python 3 (ipykernel)",
   "language": "python",
   "name": "python3"
  },
  "language_info": {
   "codemirror_mode": {
    "name": "ipython",
    "version": 3
   },
   "file_extension": ".py",
   "mimetype": "text/x-python",
   "name": "python",
   "nbconvert_exporter": "python",
   "pygments_lexer": "ipython3",
   "version": "3.10.8"
  }
 },
 "nbformat": 4,
 "nbformat_minor": 5
}
